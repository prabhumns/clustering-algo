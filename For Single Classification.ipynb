{
 "cells": [
  {
   "cell_type": "code",
   "execution_count": 1,
   "metadata": {},
   "outputs": [],
   "source": [
    "#Reading\n",
    "with open(r\"DBScan_Dataset.txt\", \"r+\") as f: file_data = f.readlines() #opening file and reading data\n",
    "data = [[float(i) for i in line.strip().split(\"\\t\")] for line in file_data] \n",
    "data = [tuple(data_point) for data_point in data] #making each one the data as a tuple along with the ground truth\n",
    "import math\n",
    "distances = {i:[math.sqrt(((j[0]-i[0])*(j[0]-i[0]))+((j[1]-i[1])*(j[1]-i[1])))for j in data] for i in data} #has all the distances stored in it"
   ]
  },
  {
   "cell_type": "code",
   "execution_count": 2,
   "metadata": {},
   "outputs": [],
   "source": [
    "#This has the information collected during classififcation\n",
    "info = {i:[-1,0] for i in data} #first one represent the new classification and second whether it is already verified or not to prevent infinte loop"
   ]
  },
  {
   "cell_type": "code",
   "execution_count": 3,
   "metadata": {},
   "outputs": [],
   "source": [
    "#test values\n",
    "minpts = 5\n",
    "eps = 1.5 "
   ]
  },
  {
   "cell_type": "code",
   "execution_count": 4,
   "metadata": {},
   "outputs": [],
   "source": [
    "neighbours = {} #Neighbours are stored over here\n",
    "new_classification = {} #classification is also mentioned over here\n",
    "\n",
    "def checking_point(data_point,class_number, from_number = 0):\n",
    "    if info[data_point][1] == 0: #whether the data point is verified or not previously\n",
    "        info[data_point][1] =1 #marking it as verified\n",
    "        list_of_neighbours = [] \n",
    "        t= 0\n",
    "        for distance in distances[data_point]:\n",
    "            if distance < eps:\n",
    "                list_of_neighbours.append(data[t])\n",
    "            t=t+1\n",
    "        neighbours[data_point] = list_of_neighbours #neighbours of each point are mentioned in dict\n",
    "        if minpts < len(list_of_neighbours): #If they are core points\n",
    "            info[data_point][0] = class_number #class which they belong to\n",
    "\n",
    "            if class_number in new_classification:\n",
    "                new_classification[class_number].add(data_point)\n",
    "            else:\n",
    "                new_classification[class_number] = {data_point}\n",
    "            \n",
    "            for point in list_of_neighbours: #Neighbours also will be checked just after the base point\n",
    "                checking_point(point,class_number,from_number=1) #from_number indicates whether it is a new point or called from other point\n",
    "            return 1\n",
    "\n",
    "        if len(list_of_neighbours) <= minpts and from_number == 1: #Boundary points\n",
    "            info[data_point][0] = class_number #class which they belong to\n",
    "            new_classification[class_number].add(data_point)\n",
    "\n",
    "    return 0\n",
    "\n",
    "class_number = 1\n",
    "for data_point in data:\n",
    "    class_number = class_number + checking_point(data_point,class_number) \n",
    "    "
   ]
  },
  {
   "cell_type": "code",
   "execution_count": 5,
   "metadata": {},
   "outputs": [
    {
     "data": {
      "text/plain": [
       "dict_keys([1, 2, 3, 4, 5])"
      ]
     },
     "execution_count": 5,
     "metadata": {},
     "output_type": "execute_result"
    }
   ],
   "source": [
    "new_classification.keys() #Shows the classes that were created"
   ]
  },
  {
   "cell_type": "code",
   "execution_count": 6,
   "metadata": {},
   "outputs": [
    {
     "name": "stdout",
     "output_type": "stream",
     "text": [
      "0.9514285714285714\n"
     ]
    }
   ],
   "source": [
    "p = 0\n",
    "for i in data:\n",
    "    if i[2] == info[i][0]: p+=1 #accuracy calculation\n",
    "print (p/len(data))"
   ]
  }
 ],
 "metadata": {
  "kernelspec": {
   "display_name": "Python 3",
   "language": "python",
   "name": "python3"
  },
  "language_info": {
   "codemirror_mode": {
    "name": "ipython",
    "version": 3
   },
   "file_extension": ".py",
   "mimetype": "text/x-python",
   "name": "python",
   "nbconvert_exporter": "python",
   "pygments_lexer": "ipython3",
   "version": "3.6.5"
  }
 },
 "nbformat": 4,
 "nbformat_minor": 2
}
